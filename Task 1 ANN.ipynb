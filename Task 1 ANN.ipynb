{
 "cells": [
  {
   "cell_type": "markdown",
   "metadata": {},
   "source": [
    "#  Programming Assignment 2\n",
    "* Author: Shreya Dubey "
   ]
  },
  {
   "cell_type": "code",
   "execution_count": 37,
   "metadata": {},
   "outputs": [],
   "source": [
    "from zipfile import ZipFile\n",
    "import numpy as np\n",
    "import matplotlib.pyplot as plt\n",
    "import math\n",
    "\n",
    "'''load your data here'''\n",
    "\n",
    "class LoadDataModule(object):\n",
    "    def __init__(self):\n",
    "        self.DIR = './'\n",
    "        pass\n",
    "    \n",
    "    # Returns images and labels corresponding for training and testing. Default mode is train. \n",
    "    # For retrieving test data pass mode as 'test' in function call.\n",
    "    def load(self, mode = 'train'):\n",
    "        label_filename = mode + '_labels'\n",
    "        image_filename = mode + '_images'\n",
    "        label_zip = self.DIR + label_filename + '.zip'\n",
    "        image_zip = self.DIR + image_filename + '.zip'\n",
    "        with ZipFile(label_zip, 'r') as lblzip:\n",
    "            labels = np.frombuffer(lblzip.read(label_filename), dtype=np.uint8, offset=8)\n",
    "        with ZipFile(image_zip, 'r') as imgzip:\n",
    "            images = np.frombuffer(imgzip.read(image_filename), dtype=np.uint8, offset=16).reshape(len(labels), 784)\n",
    "        return images, labels\n",
    "\n",
    "ld = LoadDataModule()\n",
    "\n",
    "#Now let's load the dataset\n",
    "images,labels = ld.load('train')"
   ]
  },
  {
   "cell_type": "code",
   "execution_count": 2,
   "metadata": {},
   "outputs": [
    {
     "name": "stderr",
     "output_type": "stream",
     "text": [
      "Using TensorFlow backend.\n"
     ]
    }
   ],
   "source": [
    "# Importing all the required libraries\n",
    "\n",
    "import numpy as np\n",
    "import sklearn\n",
    "from sklearn import metrics\n",
    "from keras.models import Sequential\n",
    "from keras.layers import Dense\n",
    "from sklearn.preprocessing import MinMaxScaler"
   ]
  },
  {
   "cell_type": "code",
   "execution_count": 5,
   "metadata": {},
   "outputs": [
    {
     "name": "stderr",
     "output_type": "stream",
     "text": [
      "C:\\Users\\khare\\Anaconda3\\lib\\site-packages\\sklearn\\utils\\validation.py:595: DataConversionWarning: Data with input dtype uint8 was converted to float64 by MinMaxScaler.\n",
      "  warnings.warn(msg, DataConversionWarning)\n"
     ]
    }
   ],
   "source": [
    "# normalizing the data\n",
    "\n",
    "scaler = MinMaxScaler()\n",
    "images = scaler.fit_transform(images)"
   ]
  },
  {
   "cell_type": "code",
   "execution_count": 7,
   "metadata": {},
   "outputs": [],
   "source": [
    "# Changing labels into vector\n",
    "\n",
    "train_label = np.zeros((images.shape[0],10))\n",
    "for i in range(len(labels)):\n",
    "    train_label[i,labels[i]] = 1\n",
    "    "
   ]
  },
  {
   "cell_type": "code",
   "execution_count": 8,
   "metadata": {},
   "outputs": [
    {
     "name": "stdout",
     "output_type": "stream",
     "text": [
      "WARNING:tensorflow:From C:\\Users\\khare\\Anaconda3\\lib\\site-packages\\tensorflow\\python\\framework\\op_def_library.py:263: colocate_with (from tensorflow.python.framework.ops) is deprecated and will be removed in a future version.\n",
      "Instructions for updating:\n",
      "Colocations handled automatically by placer.\n"
     ]
    },
    {
     "name": "stderr",
     "output_type": "stream",
     "text": [
      "C:\\Users\\khare\\Anaconda3\\lib\\site-packages\\ipykernel_launcher.py:3: UserWarning: Update your `Dense` call to the Keras 2 API: `Dense(input_dim=784, activation=\"tanh\", units=784)`\n",
      "  This is separate from the ipykernel package so we can avoid doing imports until\n",
      "C:\\Users\\khare\\Anaconda3\\lib\\site-packages\\ipykernel_launcher.py:4: UserWarning: Update your `Dense` call to the Keras 2 API: `Dense(activation=\"sigmoid\", units=512)`\n",
      "  after removing the cwd from sys.path.\n",
      "C:\\Users\\khare\\Anaconda3\\lib\\site-packages\\ipykernel_launcher.py:5: UserWarning: Update your `Dense` call to the Keras 2 API: `Dense(activation=\"relu\", units=100)`\n",
      "  \"\"\"\n",
      "C:\\Users\\khare\\Anaconda3\\lib\\site-packages\\ipykernel_launcher.py:6: UserWarning: Update your `Dense` call to the Keras 2 API: `Dense(activation=\"softmax\", units=10)`\n",
      "  \n"
     ]
    }
   ],
   "source": [
    "# creating the model\n",
    "\n",
    "model = Sequential()\n",
    "model.add(Dense(output_dim=784, input_dim=784, activation='tanh'))\n",
    "model.add(Dense(output_dim=512, activation='sigmoid'))\n",
    "model.add(Dense(output_dim=100, activation='relu'))\n",
    "model.add(Dense(output_dim=10, activation='softmax'))"
   ]
  },
  {
   "cell_type": "code",
   "execution_count": 9,
   "metadata": {},
   "outputs": [],
   "source": [
    "# Creating class for wall time \n",
    "\n",
    "import time\n",
    "import keras\n",
    "class TimeHistory(keras.callbacks.Callback):\n",
    "    def on_train_begin(self, logs={}):\n",
    "        self.times = []\n",
    "\n",
    "    def on_epoch_begin(self, epoch, logs={}):\n",
    "        self.epoch_time_start = time.time()\n",
    "\n",
    "    def on_epoch_end(self, epoch, logs={}):\n",
    "        self.times.append(time.time() - self.epoch_time_start)"
   ]
  },
  {
   "cell_type": "code",
   "execution_count": 10,
   "metadata": {},
   "outputs": [
    {
     "name": "stdout",
     "output_type": "stream",
     "text": [
      "WARNING:tensorflow:From C:\\Users\\khare\\Anaconda3\\lib\\site-packages\\tensorflow\\python\\ops\\math_ops.py:3066: to_int32 (from tensorflow.python.ops.math_ops) is deprecated and will be removed in a future version.\n",
      "Instructions for updating:\n",
      "Use tf.cast instead.\n",
      "Epoch 1/50\n",
      "60000/60000 [==============================] - 11s 185us/step - loss: 0.5362 - acc: 0.8061\n",
      "Epoch 2/50\n",
      "60000/60000 [==============================] - 11s 187us/step - loss: 0.3814 - acc: 0.86040s - loss: 0.3811 - ac\n",
      "Epoch 3/50\n",
      "60000/60000 [==============================] - 10s 166us/step - loss: 0.3489 - acc: 0.8719\n",
      "Epoch 4/50\n",
      "60000/60000 [==============================] - 10s 167us/step - loss: 0.3189 - acc: 0.8819\n",
      "Epoch 5/50\n",
      "60000/60000 [==============================] - 10s 163us/step - loss: 0.3017 - acc: 0.8883\n",
      "Epoch 6/50\n",
      "60000/60000 [==============================] - 10s 163us/step - loss: 0.2836 - acc: 0.8940\n",
      "Epoch 7/50\n",
      "60000/60000 [==============================] - 10s 164us/step - loss: 0.2728 - acc: 0.8978\n",
      "Epoch 8/50\n",
      "60000/60000 [==============================] - 10s 163us/step - loss: 0.2577 - acc: 0.9028\n",
      "Epoch 9/50\n",
      "60000/60000 [==============================] - 9s 155us/step - loss: 0.2466 - acc: 0.9085\n",
      "Epoch 10/50\n",
      "60000/60000 [==============================] - 10s 172us/step - loss: 0.2366 - acc: 0.9117\n",
      "Epoch 11/50\n",
      "60000/60000 [==============================] - 11s 180us/step - loss: 0.2235 - acc: 0.9160\n",
      "Epoch 12/50\n",
      "60000/60000 [==============================] - 9s 151us/step - loss: 0.2147 - acc: 0.9195\n",
      "Epoch 13/50\n",
      "60000/60000 [==============================] - 9s 147us/step - loss: 0.2058 - acc: 0.9224 2s - - ETA: 0s - loss: 0.204\n",
      "Epoch 14/50\n",
      "60000/60000 [==============================] - 9s 144us/step - loss: 0.1951 - acc: 0.9258\n",
      "Epoch 15/50\n",
      "60000/60000 [==============================] - 9s 144us/step - loss: 0.1904 - acc: 0.9276\n",
      "Epoch 16/50\n",
      "60000/60000 [==============================] - 9s 151us/step - loss: 0.1843 - acc: 0.9293 \n",
      "Epoch 17/50\n",
      "60000/60000 [==============================] - 10s 169us/step - loss: 0.1705 - acc: 0.9353\n",
      "Epoch 18/50\n",
      "60000/60000 [==============================] - 10s 173us/step - loss: 0.1600 - acc: 0.9393\n",
      "Epoch 19/50\n",
      "60000/60000 [==============================] - 9s 149us/step - loss: 0.1527 - acc: 0.9423 1s - loss:\n",
      "Epoch 20/50\n",
      "60000/60000 [==============================] - 9s 145us/step - loss: 0.1494 - acc: 0.9430 1s - lo\n",
      "Epoch 21/50\n",
      "60000/60000 [==============================] - 11s 177us/step - loss: 0.1421 - acc: 0.9465\n",
      "Epoch 22/50\n",
      "60000/60000 [==============================] - 9s 158us/step - loss: 0.1303 - acc: 0.9515 1s - loss:\n",
      "Epoch 23/50\n",
      "60000/60000 [==============================] - 10s 162us/step - loss: 0.1255 - acc: 0.95275s  - ETA: 3s - \n",
      "Epoch 24/50\n",
      "60000/60000 [==============================] - 10s 166us/step - loss: 0.1188 - acc: 0.9546\n",
      "Epoch 25/50\n",
      "60000/60000 [==============================] - 9s 156us/step - loss: 0.1126 - acc: 0.9570\n",
      "Epoch 26/50\n",
      "60000/60000 [==============================] - 9s 152us/step - loss: 0.1074 - acc: 0.9592\n",
      "Epoch 27/50\n",
      "60000/60000 [==============================] - 10s 168us/step - loss: 0.0986 - acc: 0.9627\n",
      "Epoch 28/50\n",
      "60000/60000 [==============================] - 11s 182us/step - loss: 0.0965 - acc: 0.9639\n",
      "Epoch 29/50\n",
      "60000/60000 [==============================] - 9s 157us/step - loss: 0.0894 - acc: 0.9667\n",
      "Epoch 30/50\n",
      "60000/60000 [==============================] - 9s 149us/step - loss: 0.0858 - acc: 0.9679 3s - loss - ETA - ETA: 0s - loss: 0.0849 - acc:\n",
      "Epoch 31/50\n",
      "60000/60000 [==============================] - 9s 144us/step - loss: 0.0829 - acc: 0.9685\n",
      "Epoch 32/50\n",
      "60000/60000 [==============================] - 9s 144us/step - loss: 0.0749 - acc: 0.9716 0s - loss: 0.0748 -\n",
      "Epoch 33/50\n",
      "60000/60000 [==============================] - 9s 146us/step - loss: 0.0730 - acc: 0.9725\n",
      "Epoch 34/50\n",
      "60000/60000 [==============================] - 9s 144us/step - loss: 0.0664 - acc: 0.9760\n",
      "Epoch 35/50\n",
      "60000/60000 [==============================] - 9s 146us/step - loss: 0.0705 - acc: 0.9730\n",
      "Epoch 36/50\n",
      "60000/60000 [==============================] - 9s 148us/step - loss: 0.0631 - acc: 0.9759\n",
      "Epoch 37/50\n",
      "60000/60000 [==============================] - 9s 151us/step - loss: 0.0568 - acc: 0.9783\n",
      "Epoch 38/50\n",
      "60000/60000 [==============================] - 9s 145us/step - loss: 0.0594 - acc: 0.9778\n",
      "Epoch 39/50\n",
      "60000/60000 [==============================] - 9s 144us/step - loss: 0.0622 - acc: 0.9765\n",
      "Epoch 40/50\n",
      "60000/60000 [==============================] - 9s 145us/step - loss: 0.0546 - acc: 0.9794\n",
      "Epoch 41/50\n",
      "60000/60000 [==============================] - 9s 144us/step - loss: 0.0495 - acc: 0.9818\n",
      "Epoch 42/50\n",
      "60000/60000 [==============================] - 9s 148us/step - loss: 0.0495 - acc: 0.9815\n",
      "Epoch 43/50\n",
      "60000/60000 [==============================] - 9s 145us/step - loss: 0.0471 - acc: 0.9819\n",
      "Epoch 44/50\n",
      "60000/60000 [==============================] - 9s 144us/step - loss: 0.0474 - acc: 0.9831\n",
      "Epoch 45/50\n",
      "60000/60000 [==============================] - 9s 144us/step - loss: 0.0538 - acc: 0.9792 1s - loss:  - ETA: 0s - loss: 0.0535 - a\n",
      "Epoch 46/50\n",
      "60000/60000 [==============================] - 9s 144us/step - loss: 0.0439 - acc: 0.9842\n",
      "Epoch 47/50\n",
      "60000/60000 [==============================] - 9s 144us/step - loss: 0.0454 - acc: 0.9829\n",
      "Epoch 48/50\n",
      "60000/60000 [==============================] - 9s 147us/step - loss: 0.0434 - acc: 0.9837\n",
      "Epoch 49/50\n",
      "60000/60000 [==============================] - 9s 152us/step - loss: 0.0451 - acc: 0.9830\n",
      "Epoch 50/50\n",
      "60000/60000 [==============================] - 9s 148us/step - loss: 0.0429 - acc: 0.9836\n"
     ]
    }
   ],
   "source": [
    "# training the model on training data\n",
    "\n",
    "model.compile(loss='categorical_crossentropy', optimizer='adam', metrics=['accuracy'])\n",
    "\n",
    "time_callback = TimeHistory()\n",
    "\n",
    "history = model.fit(images,train_label, epochs=50, batch_size=200, callbacks=[time_callback])"
   ]
  },
  {
   "cell_type": "code",
   "execution_count": 11,
   "metadata": {},
   "outputs": [],
   "source": [
    "# Rounding up wall time for graph\n",
    "\n",
    "time = time_callback.times\n",
    "wall_time = []\n",
    "sum = 0\n",
    "for t in range(len(time)):\n",
    "    sum = sum+time[t]\n",
    "    wall_time.append(round(sum))"
   ]
  },
  {
   "cell_type": "code",
   "execution_count": 12,
   "metadata": {},
   "outputs": [
    {
     "data": {
      "image/png": "[encoded data removed]",
      "text/plain": [
       "<Figure size 432x288 with 1 Axes>"
      ]
     },
     "metadata": {
      "needs_background": "light"
     },
     "output_type": "display_data"
    },
    {
     "data": {
      "image/png": "[encoded data removed]",
      "text/plain": [
       "<Figure size 432x288 with 1 Axes>"
      ]
     },
     "metadata": {
      "needs_background": "light"
     },
     "output_type": "display_data"
    }
   ],
   "source": [
    "# Plotting graph between loss and epoch \n",
    "\n",
    "import matplotlib.pyplot as plt\n",
    "epoch = np.arange(len(time))\n",
    "epoch = epoch+1\n",
    "plt.plot(epoch, history.history['loss'])\n",
    "plt.xlabel(\"number of epochs\")\n",
    "plt.ylabel(\"loss\")\n",
    "plt.show()\n",
    "\n",
    "# Plotting graph between loss and wall time\n",
    "\n",
    "plt.plot(wall_time, history.history['loss'])\n",
    "plt.ylabel(\"loss\")\n",
    "plt.xlabel(\"wall time\")\n",
    "plt.show()"
   ]
  },
  {
   "cell_type": "code",
   "execution_count": 30,
   "metadata": {},
   "outputs": [
    {
     "name": "stdout",
     "output_type": "stream",
     "text": [
      "Accuracy =  98.35666666666667\n"
     ]
    }
   ],
   "source": [
    "# Prediction on training data\n",
    "\n",
    "train_Y_pred = model.predict_classes(images)\n",
    "\n",
    "# Calculating overall accuracy\n",
    "\n",
    "print(\"Accuracy = \",metrics.accuracy_score(labels,train_Y_pred)*100)"
   ]
  },
  {
   "cell_type": "code",
   "execution_count": 31,
   "metadata": {},
   "outputs": [
    {
     "name": "stdout",
     "output_type": "stream",
     "text": [
      "Precision =  [ 98.75734677  99.83355526  98.47341338  98.92019571  95.32877604\n",
      "  98.63509291  95.32497149  98.48585691 100.          99.98308239]\n",
      "Recall =  [98.01666667 99.96666667 95.68333333 97.71666667 97.61666667 99.96666667\n",
      " 97.53333333 98.65       99.91666667 98.5       ]\n",
      "F1 score =  [98.38561271 99.90006662 97.05832629 98.31474805 96.45915679 99.29641586\n",
      " 96.41650877 98.56786012 99.95831596 99.23600034]\n"
     ]
    }
   ],
   "source": [
    "# Calculating classwise Precision, Recall and F1 score\n",
    "\n",
    "print(\"Precision = \",metrics.precision_score(labels,train_Y_pred,average=None)*100)\n",
    "print(\"Recall = \",metrics.recall_score(labels,train_Y_pred,average=None)*100)\n",
    "print(\"F1 score = \",metrics.f1_score(labels,train_Y_pred,average=None)*100)"
   ]
  },
  {
   "cell_type": "code",
   "execution_count": 34,
   "metadata": {},
   "outputs": [
    {
     "name": "stdout",
     "output_type": "stream",
     "text": [
      "Confusion Matrix =  [[5881    0    1    0    1    1  116    0    0    0]\n",
      " [   0 5998    0    2    0    0    0    0    0    0]\n",
      " [  12    0 5741    4  197    0   46    0    0    0]\n",
      " [  33   10    1 5863   29    0   64    0    0    0]\n",
      " [   1    0   32   51 5857    0   59    0    0    0]\n",
      " [   0    0    0    0    0 5998    0    2    0    0]\n",
      " [  28    0   55    7   58    0 5852    0    0    0]\n",
      " [   0    0    0    0    0   80    0 5919    0    1]\n",
      " [   0    0    0    0    2    1    2    0 5995    0]\n",
      " [   0    0    0    0    0    1    0   89    0 5910]]\n",
      "Classwise accuracy =  [98.01666667 99.96666667 95.68333333 97.71666667 97.61666667 99.96666667\n",
      " 97.53333333 98.65       99.91666667 98.5       ]\n"
     ]
    }
   ],
   "source": [
    "# Calculation of confusion matrix\n",
    "\n",
    "cm1 = metrics.confusion_matrix(labels,train_Y_pred,labels=[0,1,2,3,4,5,6,7,8,9])\n",
    "print(\"Confusion Matrix = \",cm1)\n",
    "\n",
    "# Calculating classwise accuracies\n",
    "\n",
    "cm1 = cm1.astype('float') / cm1.sum(axis=1)[:, np.newaxis]\n",
    "print(\"Classwise accuracy = \",(cm1.diagonal()*100))"
   ]
  },
  {
   "cell_type": "code",
   "execution_count": 23,
   "metadata": {},
   "outputs": [],
   "source": [
    "# Loading test data\n",
    "\n",
    "test_images,test_labels = ld.load('test')"
   ]
  },
  {
   "cell_type": "code",
   "execution_count": 24,
   "metadata": {},
   "outputs": [],
   "source": [
    "# Normalizing test data\n",
    "\n",
    "test_images = scaler.transform(test_images)"
   ]
  },
  {
   "cell_type": "code",
   "execution_count": 35,
   "metadata": {},
   "outputs": [
    {
     "name": "stdout",
     "output_type": "stream",
     "text": [
      "Accuracy =  89.01\n"
     ]
    }
   ],
   "source": [
    "# Prediction on test data\n",
    "\n",
    "test_Y_pred = model.predict_classes(test_images)\n",
    "\n",
    "# Calculating overall accuracy\n",
    "\n",
    "print(\"Accuracy = \",metrics.accuracy_score(test_labels,test_Y_pred)*100)"
   ]
  },
  {
   "cell_type": "code",
   "execution_count": 33,
   "metadata": {},
   "outputs": [
    {
     "name": "stdout",
     "output_type": "stream",
     "text": [
      "Confusion Matrix =  [[818   2  16  12   5   2 141   0   4   0]\n",
      " [  5 980   0   4   3   0   6   0   2   0]\n",
      " [ 22   0 811   7  85   1  73   0   1   0]\n",
      " [ 28  13   9 863  27   1  54   0   5   0]\n",
      " [  0   0  75  33 838   0  52   0   2   0]\n",
      " [  0   0   0   1   0 983   0   5   3   8]\n",
      " [102   1  69  15  59   0 746   0   8   0]\n",
      " [  0   0   0   0   0  35   0 949   0  16]\n",
      " [  2   0   3   5   3   6   7   2 972   0]\n",
      " [  1   0   0   0   0  10   0  48   0 941]]\n",
      "Classwise accuracy =  [81.8 98.  81.1 86.3 83.8 98.3 74.6 94.9 97.2 94.1]\n"
     ]
    }
   ],
   "source": [
    "# Calculation of confusion matrix\n",
    "\n",
    "cm2 = metrics.confusion_matrix(test_labels,test_Y_pred,labels=[0,1,2,3,4,5,6,7,8,9])\n",
    "print(\"Confusion Matrix = \",cm2)\n",
    "\n",
    "# Calculation of classwise accuracies\n",
    "\n",
    "cm2 = cm2.astype('float') / cm2.sum(axis=1)[:, np.newaxis]\n",
    "print(\"Classwise accuracy = \",cm2.diagonal()*100)"
   ]
  },
  {
   "cell_type": "code",
   "execution_count": 36,
   "metadata": {},
   "outputs": [
    {
     "name": "stdout",
     "output_type": "stream",
     "text": [
      "Precision =  [83.6400818  98.3935743  82.50254323 91.80851064 82.15686275 94.70134875\n",
      " 69.13809082 94.52191235 97.49247743 97.51295337]\n",
      "Recall =  [81.8 98.  81.1 86.3 83.8 98.3 74.6 94.9 97.2 94.1]\n",
      "F1 score =  [82.70980789 98.19639279 81.79525971 88.96907216 82.97029703 96.46712463\n",
      " 71.76527177 94.71057884 97.34601903 95.77608142]\n"
     ]
    }
   ],
   "source": [
    "# Calculating classwise Precision, Recall and F1 score\n",
    "\n",
    "print(\"Precision = \",metrics.precision_score(test_labels,test_Y_pred,average=None)*100)\n",
    "print(\"Recall = \",metrics.recall_score(test_labels,test_Y_pred,average=None)*100)\n",
    "print(\"F1 score = \",metrics.f1_score(test_labels,test_Y_pred,average=None)*100)"
   ]
  }
 ],
 "metadata": {
  "kernelspec": {
   "display_name": "Python 3",
   "language": "python",
   "name": "python3"
  },
  "language_info": {
   "codemirror_mode": {
    "name": "ipython",
    "version": 3
   },
   "file_extension": ".py",
   "mimetype": "text/x-python",
   "name": "python",
   "nbconvert_exporter": "python",
   "pygments_lexer": "ipython3",
   "version": "3.7.1"
  }
 },
 "nbformat": 4,
 "nbformat_minor": 2
}
