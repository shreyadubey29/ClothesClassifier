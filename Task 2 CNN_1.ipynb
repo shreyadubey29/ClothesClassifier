{
 "cells": [
  {
   "cell_type": "markdown",
   "metadata": {},
   "source": [
    "#  Programming Assignment 2\n",
    "* Author: Shreya Dubey "
   ]
  },
  {
   "cell_type": "code",
   "execution_count": 21,
   "metadata": {},
   "outputs": [],
   "source": [
    "# Using LoadDataModule.py for decompressing the dataset.\n",
    "from zipfile import ZipFile\n",
    "import numpy as np\n",
    "import matplotlib.pyplot as plt\n",
    "import math\n",
    "\n",
    "'''load your data here'''\n",
    "\n",
    "class LoadDataModule(object):\n",
    "    def __init__(self):\n",
    "        self.DIR = './'\n",
    "        pass\n",
    "    \n",
    "    # Returns images and labels corresponding for training and testing. Default mode is train. \n",
    "    # For retrieving test data pass mode as 'test' in function call.\n",
    "    def load(self, mode = 'train'):\n",
    "        label_filename = mode + '_labels'\n",
    "        image_filename = mode + '_images'\n",
    "        label_zip = self.DIR + label_filename + '.zip'\n",
    "        image_zip = self.DIR + image_filename + '.zip'\n",
    "        with ZipFile(label_zip, 'r') as lblzip:\n",
    "            labels = np.frombuffer(lblzip.read(label_filename), dtype=np.uint8, offset=8)\n",
    "        with ZipFile(image_zip, 'r') as imgzip:\n",
    "            images = np.frombuffer(imgzip.read(image_filename), dtype=np.uint8, offset=16).reshape(len(labels), 784)\n",
    "        return images, labels\n",
    "\n",
    "# Usage\n",
    "\n",
    "ld = LoadDataModule()\n",
    "\n",
    "#Now let's load the dataset\n",
    "images,labels = ld.load('train')"
   ]
  },
  {
   "cell_type": "code",
   "execution_count": 22,
   "metadata": {},
   "outputs": [],
   "source": [
    "# Importing all the required libraries.\n",
    "\n",
    "import numpy as np\n",
    "import sklearn\n",
    "from sklearn import metrics\n",
    "from keras.models import Sequential\n",
    "from keras.layers import Dense, Conv2D, Flatten, MaxPooling2D\n",
    "from sklearn.preprocessing import MinMaxScaler\n",
    "from numba import jit"
   ]
  },
  {
   "cell_type": "code",
   "execution_count": 23,
   "metadata": {},
   "outputs": [
    {
     "name": "stderr",
     "output_type": "stream",
     "text": [
      "C:\\Users\\khare\\Anaconda3\\lib\\site-packages\\sklearn\\utils\\validation.py:595: DataConversionWarning: Data with input dtype uint8 was converted to float64 by MinMaxScaler.\n",
      "  warnings.warn(msg, DataConversionWarning)\n"
     ]
    }
   ],
   "source": [
    "# Changing the label value to a vector\n",
    "\n",
    "train_label = np.zeros((images.shape[0],10))\n",
    "for i in range(len(labels)):\n",
    "    train_label[i,labels[i]] = 1\n",
    "\n",
    "# Normalizing the training data\n",
    "    \n",
    "scaler = MinMaxScaler()\n",
    "images = scaler.fit_transform(images)\n",
    "    \n",
    "# Reshaping the training images\n",
    "\n",
    "train_images = np.empty((images.shape[0],28,28))\n",
    "for i in range (images.shape[0]):\n",
    "    train_images[i,:,:]=(np.reshape(images[i,:],(28,28)))\n",
    "\n",
    "train_images = train_images.reshape(-1,28,28,1)"
   ]
  },
  {
   "cell_type": "code",
   "execution_count": 24,
   "metadata": {},
   "outputs": [
    {
     "name": "stderr",
     "output_type": "stream",
     "text": [
      "C:\\Users\\khare\\Anaconda3\\lib\\site-packages\\ipykernel_launcher.py:7: UserWarning: Update your `Dense` call to the Keras 2 API: `Dense(activation=\"relu\", units=100)`\n",
      "  import sys\n",
      "C:\\Users\\khare\\Anaconda3\\lib\\site-packages\\ipykernel_launcher.py:8: UserWarning: Update your `Dense` call to the Keras 2 API: `Dense(activation=\"softmax\", units=10)`\n",
      "  \n"
     ]
    }
   ],
   "source": [
    "# Creating the model\n",
    "\n",
    "model = Sequential()\n",
    "model.add(Conv2D(40, kernel_size=5, use_bias=True, strides=(1,1), padding='valid', activation='relu', input_shape=(28,28,1)))\n",
    "model.add(MaxPooling2D(pool_size=(2, 2)))\n",
    "model.add(Flatten())\n",
    "model.add(Dense(output_dim=100, activation='relu'))\n",
    "model.add(Dense(output_dim=10, activation='softmax'))"
   ]
  },
  {
   "cell_type": "code",
   "execution_count": 25,
   "metadata": {},
   "outputs": [],
   "source": [
    "# Creating class for wall time \n",
    "\n",
    "import time\n",
    "import keras\n",
    "class TimeHistory(keras.callbacks.Callback):\n",
    "    def on_train_begin(self, logs={}):\n",
    "        self.times = []\n",
    "\n",
    "    def on_epoch_begin(self, epoch, logs={}):\n",
    "        self.epoch_time_start = time.time()\n",
    "\n",
    "    def on_epoch_end(self, epoch, logs={}):\n",
    "        self.times.append(time.time() - self.epoch_time_start)"
   ]
  },
  {
   "cell_type": "code",
   "execution_count": 26,
   "metadata": {},
   "outputs": [
    {
     "name": "stdout",
     "output_type": "stream",
     "text": [
      "Epoch 1/50\n",
      "60000/60000 [==============================] - 34s 564us/step - loss: 0.5015 - acc: 0.8246\n",
      "Epoch 2/50\n",
      "60000/60000 [==============================] - 32s 539us/step - loss: 0.3363 - acc: 0.88171s - loss: 0.3377 - a\n",
      "Epoch 3/50\n",
      "60000/60000 [==============================] - 33s 546us/step - loss: 0.2926 - acc: 0.8963\n",
      "Epoch 4/50\n",
      "60000/60000 [==============================] - 32s 540us/step - loss: 0.2611 - acc: 0.9072\n",
      "Epoch 5/50\n",
      "60000/60000 [==============================] - 31s 516us/step - loss: 0.2389 - acc: 0.9142\n",
      "Epoch 6/50\n",
      "60000/60000 [==============================] - 34s 574us/step - loss: 0.2190 - acc: 0.9211\n",
      "Epoch 7/50\n",
      "60000/60000 [==============================] - 32s 537us/step - loss: 0.2016 - acc: 0.9265\n",
      "Epoch 8/50\n",
      "60000/60000 [==============================] - 33s 545us/step - loss: 0.1874 - acc: 0.9327\n",
      "Epoch 9/50\n",
      "60000/60000 [==============================] - 34s 563us/step - loss: 0.1777 - acc: 0.9351\n",
      "Epoch 10/50\n",
      "60000/60000 [==============================] - 32s 527us/step - loss: 0.1620 - acc: 0.9419\n",
      "Epoch 11/50\n",
      "60000/60000 [==============================] - 32s 539us/step - loss: 0.1546 - acc: 0.9446\n",
      "Epoch 12/50\n",
      "60000/60000 [==============================] - 33s 542us/step - loss: 0.1390 - acc: 0.9498\n",
      "Epoch 13/50\n",
      "60000/60000 [==============================] - 32s 532us/step - loss: 0.1320 - acc: 0.9514\n",
      "Epoch 14/50\n",
      "60000/60000 [==============================] - 32s 526us/step - loss: 0.1203 - acc: 0.9558\n",
      "Epoch 15/50\n",
      "60000/60000 [==============================] - 30s 505us/step - loss: 0.1104 - acc: 0.9600\n",
      "Epoch 16/50\n",
      "60000/60000 [==============================] - 30s 502us/step - loss: 0.1028 - acc: 0.9631\n",
      "Epoch 17/50\n",
      "60000/60000 [==============================] - 31s 522us/step - loss: 0.0952 - acc: 0.9665\n",
      "Epoch 18/50\n",
      "60000/60000 [==============================] - 31s 523us/step - loss: 0.0889 - acc: 0.96790s - loss: 0.0891 - acc:\n",
      "Epoch 19/50\n",
      "60000/60000 [==============================] - 31s 517us/step - loss: 0.0788 - acc: 0.9724\n",
      "Epoch 20/50\n",
      "60000/60000 [==============================] - 31s 515us/step - loss: 0.0708 - acc: 0.9757\n",
      "Epoch 21/50\n",
      "60000/60000 [==============================] - 31s 514us/step - loss: 0.0652 - acc: 0.9772\n",
      "Epoch 22/50\n",
      "60000/60000 [==============================] - 31s 516us/step - loss: 0.0589 - acc: 0.9796\n",
      "Epoch 23/50\n",
      "60000/60000 [==============================] - 32s 528us/step - loss: 0.0579 - acc: 0.9798\n",
      "Epoch 24/50\n",
      "60000/60000 [==============================] - 31s 521us/step - loss: 0.0500 - acc: 0.9835\n",
      "Epoch 25/50\n",
      "60000/60000 [==============================] - 31s 514us/step - loss: 0.0461 - acc: 0.9842\n",
      "Epoch 26/50\n",
      "60000/60000 [==============================] - 31s 517us/step - loss: 0.0408 - acc: 0.9864\n",
      "Epoch 27/50\n",
      "60000/60000 [==============================] - 32s 528us/step - loss: 0.0374 - acc: 0.9874\n",
      "Epoch 28/50\n",
      "60000/60000 [==============================] - 31s 524us/step - loss: 0.0330 - acc: 0.9894\n",
      "Epoch 29/50\n",
      "60000/60000 [==============================] - 32s 526us/step - loss: 0.0345 - acc: 0.9881\n",
      "Epoch 30/50\n",
      "60000/60000 [==============================] - 31s 519us/step - loss: 0.0293 - acc: 0.9904\n",
      "Epoch 31/50\n",
      "60000/60000 [==============================] - 30s 503us/step - loss: 0.0274 - acc: 0.9912\n",
      "Epoch 32/50\n",
      "60000/60000 [==============================] - 31s 509us/step - loss: 0.0297 - acc: 0.9893\n",
      "Epoch 33/50\n",
      "60000/60000 [==============================] - 31s 519us/step - loss: 0.0218 - acc: 0.9930\n",
      "Epoch 34/50\n",
      "60000/60000 [==============================] - 31s 515us/step - loss: 0.0208 - acc: 0.9934\n",
      "Epoch 35/50\n",
      "60000/60000 [==============================] - 32s 531us/step - loss: 0.0256 - acc: 0.9916\n",
      "Epoch 36/50\n",
      "60000/60000 [==============================] - 31s 509us/step - loss: 0.0209 - acc: 0.9936\n",
      "Epoch 37/50\n",
      "60000/60000 [==============================] - 31s 510us/step - loss: 0.0158 - acc: 0.9955\n",
      "Epoch 38/50\n",
      "60000/60000 [==============================] - 30s 502us/step - loss: 0.0196 - acc: 0.9937\n",
      "Epoch 39/50\n",
      "60000/60000 [==============================] - 30s 503us/step - loss: 0.0179 - acc: 0.9940\n",
      "Epoch 40/50\n",
      "60000/60000 [==============================] - 31s 509us/step - loss: 0.0135 - acc: 0.9960\n",
      "Epoch 41/50\n",
      "60000/60000 [==============================] - 34s 566us/step - loss: 0.0137 - acc: 0.9960\n",
      "Epoch 42/50\n",
      "60000/60000 [==============================] - 32s 535us/step - loss: 0.0216 - acc: 0.9929\n",
      "Epoch 43/50\n",
      "60000/60000 [==============================] - 32s 534us/step - loss: 0.0196 - acc: 0.9930\n",
      "Epoch 44/50\n",
      "60000/60000 [==============================] - 32s 533us/step - loss: 0.0107 - acc: 0.9968\n",
      "Epoch 45/50\n",
      "60000/60000 [==============================] - 32s 533us/step - loss: 0.0033 - acc: 0.9998\n",
      "Epoch 46/50\n",
      "60000/60000 [==============================] - 32s 533us/step - loss: 0.0139 - acc: 0.9957\n",
      "Epoch 47/50\n",
      "60000/60000 [==============================] - 32s 533us/step - loss: 0.0348 - acc: 0.9876\n",
      "Epoch 48/50\n",
      "60000/60000 [==============================] - 32s 534us/step - loss: 0.0081 - acc: 0.9980\n",
      "Epoch 49/50\n",
      "60000/60000 [==============================] - 33s 546us/step - loss: 0.0023 - acc: 0.9999\n",
      "Epoch 50/50\n",
      "60000/60000 [==============================] - 32s 535us/step - loss: 0.0016 - acc: 1.0000\n"
     ]
    }
   ],
   "source": [
    "model.compile(optimizer='adam', loss='categorical_crossentropy', metrics=['accuracy'])\n",
    "\n",
    "time_callback = TimeHistory()\n",
    "\n",
    "history = model.fit(train_images,train_label, epochs=50, batch_size=200, callbacks=[time_callback])"
   ]
  },
  {
   "cell_type": "code",
   "execution_count": 27,
   "metadata": {},
   "outputs": [],
   "source": [
    "# Rounding up wall time for graph\n",
    "\n",
    "time = time_callback.times\n",
    "wall_time = []\n",
    "sum = 0\n",
    "for t in range(len(time)):\n",
    "    sum = sum+time[t]\n",
    "    wall_time.append(round(sum))"
   ]
  },
  {
   "cell_type": "code",
   "execution_count": 28,
   "metadata": {},
   "outputs": [
    {
     "data": {
      "image/png": "[encoded data removed]",
      "text/plain": [
       "<Figure size 432x288 with 1 Axes>"
      ]
     },
     "metadata": {
      "needs_background": "light"
     },
     "output_type": "display_data"
    },
    {
     "data": {
      "image/png": "[encoded data removed]",
      "text/plain": [
       "<Figure size 432x288 with 1 Axes>"
      ]
     },
     "metadata": {
      "needs_background": "light"
     },
     "output_type": "display_data"
    }
   ],
   "source": [
    "# Plotting graph between loss and epoch \n",
    "\n",
    "import matplotlib.pyplot as plt\n",
    "epoch = np.arange(len(time))\n",
    "epoch = epoch+1\n",
    "plt.plot(epoch, history.history['loss'])\n",
    "plt.xlabel(\"number of epochs\")\n",
    "plt.ylabel(\"loss\")\n",
    "plt.show()\n",
    "\n",
    "# Plotting graph between loss and wall time\n",
    "\n",
    "plt.plot(wall_time, history.history['loss'])\n",
    "plt.ylabel(\"loss\")\n",
    "plt.xlabel(\"wall time\")\n",
    "plt.show()"
   ]
  },
  {
   "cell_type": "code",
   "execution_count": 29,
   "metadata": {},
   "outputs": [
    {
     "name": "stdout",
     "output_type": "stream",
     "text": [
      "Accuracy =  100.0\n"
     ]
    }
   ],
   "source": [
    "# Prediction on training data\n",
    "\n",
    "train_Y_pred = model.predict_classes(train_images)\n",
    "\n",
    "# Calculating overall accuracy\n",
    "\n",
    "print(\"Accuracy = \",metrics.accuracy_score(labels,train_Y_pred)*100)"
   ]
  },
  {
   "cell_type": "code",
   "execution_count": 30,
   "metadata": {},
   "outputs": [
    {
     "name": "stdout",
     "output_type": "stream",
     "text": [
      "Precision =  [100. 100. 100. 100. 100. 100. 100. 100. 100. 100.]\n",
      "Recall =  [100. 100. 100. 100. 100. 100. 100. 100. 100. 100.]\n",
      "F1 score =  [100. 100. 100. 100. 100. 100. 100. 100. 100. 100.]\n"
     ]
    }
   ],
   "source": [
    "# Calculating classwise Precision, Recall and F1 score\n",
    "\n",
    "print(\"Precision = \",metrics.precision_score(labels,train_Y_pred,average=None)*100)\n",
    "print(\"Recall = \",metrics.recall_score(labels,train_Y_pred,average=None)*100)\n",
    "print(\"F1 score = \",metrics.f1_score(labels,train_Y_pred,average=None)*100)"
   ]
  },
  {
   "cell_type": "code",
   "execution_count": 31,
   "metadata": {},
   "outputs": [
    {
     "name": "stdout",
     "output_type": "stream",
     "text": [
      "Confusion Matrix =  [[6000    0    0    0    0    0    0    0    0    0]\n",
      " [   0 6000    0    0    0    0    0    0    0    0]\n",
      " [   0    0 6000    0    0    0    0    0    0    0]\n",
      " [   0    0    0 6000    0    0    0    0    0    0]\n",
      " [   0    0    0    0 6000    0    0    0    0    0]\n",
      " [   0    0    0    0    0 6000    0    0    0    0]\n",
      " [   0    0    0    0    0    0 6000    0    0    0]\n",
      " [   0    0    0    0    0    0    0 6000    0    0]\n",
      " [   0    0    0    0    0    0    0    0 6000    0]\n",
      " [   0    0    0    0    0    0    0    0    0 6000]]\n",
      "Classwise accuracy =  [100. 100. 100. 100. 100. 100. 100. 100. 100. 100.]\n"
     ]
    }
   ],
   "source": [
    "# Calculation of confusion matrix\n",
    "\n",
    "cm1 = metrics.confusion_matrix(labels,train_Y_pred,labels=[0,1,2,3,4,5,6,7,8,9])\n",
    "print(\"Confusion Matrix = \",cm1)\n",
    "\n",
    "# Calculating classwise accuracies\n",
    "\n",
    "cm1 = cm1.astype('float') / cm1.sum(axis=1)[:, np.newaxis]\n",
    "print(\"Classwise accuracy = \",(cm1.diagonal()*100))"
   ]
  },
  {
   "cell_type": "code",
   "execution_count": 32,
   "metadata": {},
   "outputs": [],
   "source": [
    "# Loading test data\n",
    "\n",
    "test_images,test_labels = ld.load('test')"
   ]
  },
  {
   "cell_type": "code",
   "execution_count": 33,
   "metadata": {},
   "outputs": [],
   "source": [
    "# Normalizing test data\n",
    "\n",
    "test_images = scaler.transform(test_images)\n",
    "\n",
    "# Reshaping the test images for CNN\n",
    "\n",
    "test_images_new = np.empty((test_images.shape[0],28,28))\n",
    "\n",
    "for i in range (test_images.shape[0]):\n",
    "    test_images_new[i,:,:]=(np.reshape(test_images[i,:],(28,28)))\n",
    "\n",
    "test_images_new = test_images_new.reshape(-1,28,28,1)"
   ]
  },
  {
   "cell_type": "code",
   "execution_count": 34,
   "metadata": {},
   "outputs": [
    {
     "name": "stdout",
     "output_type": "stream",
     "text": [
      "Accuracy =  92.19000000000001\n"
     ]
    }
   ],
   "source": [
    "# Prediction on test data\n",
    "\n",
    "test_Y_pred = model.predict_classes(test_images_new)\n",
    "\n",
    "# Calculating overall accuracy\n",
    "\n",
    "print(\"Accuracy = \",metrics.accuracy_score(test_labels,test_Y_pred)*100)"
   ]
  },
  {
   "cell_type": "code",
   "execution_count": 35,
   "metadata": {},
   "outputs": [
    {
     "name": "stdout",
     "output_type": "stream",
     "text": [
      "Confusion Matrix =  [[884   1  15  14   3   3  74   1   5   0]\n",
      " [  2 979   3  12   3   0   1   0   0   0]\n",
      " [ 29   0 869   9  44   1  47   0   1   0]\n",
      " [ 20   5  14 917  16   1  23   0   4   0]\n",
      " [  2   1  43  21 894   0  38   0   1   0]\n",
      " [  0   0   0   0   0 985   0   9   1   5]\n",
      " [108   0  39  20  59   0 764   0  10   0]\n",
      " [  0   0   0   0   0   6   0 978   2  14]\n",
      " [  4   1   2   5   0   1   4   2 981   0]\n",
      " [  1   0   0   0   0   7   0  24   0 968]]\n",
      "Classwise accuracy =  [88.4 97.9 86.9 91.7 89.4 98.5 76.4 97.8 98.1 96.8]\n"
     ]
    }
   ],
   "source": [
    "# Calculation of confusion matrix\n",
    "\n",
    "cm2 = metrics.confusion_matrix(test_labels,test_Y_pred,labels=[0,1,2,3,4,5,6,7,8,9])\n",
    "print(\"Confusion Matrix = \",cm2)\n",
    "\n",
    "# Calculation of classwise accuracies\n",
    "\n",
    "cm2 = cm2.astype('float') / cm2.sum(axis=1)[:, np.newaxis]\n",
    "print(\"Classwise accuracy = \",cm2.diagonal()*100)"
   ]
  },
  {
   "cell_type": "code",
   "execution_count": 36,
   "metadata": {},
   "outputs": [
    {
     "name": "stdout",
     "output_type": "stream",
     "text": [
      "Precision =  [84.19047619 99.18946302 88.22335025 91.88376754 87.73307164 98.10756972\n",
      " 80.33648791 96.44970414 97.6119403  98.07497467]\n",
      "Recall =  [88.4 97.9 86.9 91.7 89.4 98.5 76.4 97.8 98.1 96.8]\n",
      "F1 score =  [86.24390244 98.54051334 87.55667506 91.79179179 88.55869242 98.30339321\n",
      " 78.31881087 97.12015889 97.8553616  97.43331656]\n"
     ]
    }
   ],
   "source": [
    "# Calculating classwise Precision, Recall and F1 score\n",
    "\n",
    "print(\"Precision = \",metrics.precision_score(test_labels,test_Y_pred,average=None)*100)\n",
    "print(\"Recall = \",metrics.recall_score(test_labels,test_Y_pred,average=None)*100)\n",
    "print(\"F1 score = \",metrics.f1_score(test_labels,test_Y_pred,average=None)*100)"
   ]
  }
 ],
 "metadata": {
  "kernelspec": {
   "display_name": "Python 3",
   "language": "python",
   "name": "python3"
  },
  "language_info": {
   "codemirror_mode": {
    "name": "ipython",
    "version": 3
   },
   "file_extension": ".py",
   "mimetype": "text/x-python",
   "name": "python",
   "nbconvert_exporter": "python",
   "pygments_lexer": "ipython3",
   "version": "3.7.1"
  }
 },
 "nbformat": 4,
 "nbformat_minor": 2
}
