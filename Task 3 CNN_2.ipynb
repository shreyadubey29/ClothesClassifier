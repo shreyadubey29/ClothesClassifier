{
 "cells": [
  {
   "cell_type": "markdown",
   "metadata": {},
   "source": [
    "#  Programming Assignment 2\n",
    "* Author: Shreya Dubey "
   ]
  },
  {
   "cell_type": "code",
   "execution_count": 17,
   "metadata": {},
   "outputs": [],
   "source": [
    "# Importing all the required libraries.\n",
    "\n",
    "import numpy as np\n",
    "import sklearn\n",
    "from sklearn import metrics\n",
    "from keras.models import Sequential\n",
    "from keras.layers import Dense, Conv2D, Flatten, MaxPooling2D\n",
    "from sklearn.preprocessing import MinMaxScaler\n",
    "from numba import jit, cuda"
   ]
  },
  {
   "cell_type": "code",
   "execution_count": 2,
   "metadata": {},
   "outputs": [],
   "source": [
    "# Using LoadDataModule.py for decompressing the dataset.\n",
    "\n",
    "from zipfile import ZipFile\n",
    "import numpy as np\n",
    "import matplotlib.pyplot as plt\n",
    "import math\n",
    "\n",
    "'''load your data here'''\n",
    "\n",
    "class LoadDataModule(object):\n",
    "    def __init__(self):\n",
    "        self.DIR = './'\n",
    "        pass\n",
    "    \n",
    "    # Returns images and labels corresponding for training and testing. Default mode is train. \n",
    "    # For retrieving test data pass mode as 'test' in function call.\n",
    "    def load(self, mode = 'train'):\n",
    "        label_filename = mode + '_labels'\n",
    "        image_filename = mode + '_images'\n",
    "        label_zip = self.DIR + label_filename + '.zip'\n",
    "        image_zip = self.DIR + image_filename + '.zip'\n",
    "        with ZipFile(label_zip, 'r') as lblzip:\n",
    "            labels = np.frombuffer(lblzip.read(label_filename), dtype=np.uint8, offset=8)\n",
    "        with ZipFile(image_zip, 'r') as imgzip:\n",
    "            images = np.frombuffer(imgzip.read(image_filename), dtype=np.uint8, offset=16).reshape(len(labels), 784)\n",
    "        return images, labels\n",
    "\n",
    "ld = LoadDataModule()\n",
    "\n",
    "\n",
    "#Now let's load the dataset\n",
    "images,labels = ld.load('train')"
   ]
  },
  {
   "cell_type": "code",
   "execution_count": 3,
   "metadata": {},
   "outputs": [
    {
     "name": "stderr",
     "output_type": "stream",
     "text": [
      "C:\\Users\\khare\\Anaconda3\\lib\\site-packages\\sklearn\\utils\\validation.py:595: DataConversionWarning: Data with input dtype uint8 was converted to float64 by MinMaxScaler.\n",
      "  warnings.warn(msg, DataConversionWarning)\n"
     ]
    }
   ],
   "source": [
    "# Changing the label value to a vector\n",
    "\n",
    "train_label = np.zeros((images.shape[0],10))\n",
    "for i in range(len(labels)):\n",
    "    train_label[i,labels[i]] = 1\n",
    "\n",
    "# Normalizing the training data\n",
    "\n",
    "scaler = MinMaxScaler()\n",
    "images = scaler.fit_transform(images)\n",
    "    \n",
    "# Reshaping the training images    \n",
    "\n",
    "train_images = np.empty((images.shape[0],28,28))\n",
    "for i in range (images.shape[0]):\n",
    "    train_images[i,:,:]=(np.reshape(images[i,:],(28,28)))\n",
    "\n",
    "train_images = train_images.reshape(-1,28,28,1)"
   ]
  },
  {
   "cell_type": "code",
   "execution_count": 4,
   "metadata": {},
   "outputs": [
    {
     "name": "stdout",
     "output_type": "stream",
     "text": [
      "WARNING:tensorflow:From C:\\Users\\khare\\Anaconda3\\lib\\site-packages\\tensorflow\\python\\framework\\op_def_library.py:263: colocate_with (from tensorflow.python.framework.ops) is deprecated and will be removed in a future version.\n",
      "Instructions for updating:\n",
      "Colocations handled automatically by placer.\n"
     ]
    },
    {
     "name": "stderr",
     "output_type": "stream",
     "text": [
      "C:\\Users\\khare\\Anaconda3\\lib\\site-packages\\ipykernel_launcher.py:9: UserWarning: Update your `Dense` call to the Keras 2 API: `Dense(activation=\"relu\", units=100)`\n",
      "  if __name__ == '__main__':\n",
      "C:\\Users\\khare\\Anaconda3\\lib\\site-packages\\ipykernel_launcher.py:10: UserWarning: Update your `Dense` call to the Keras 2 API: `Dense(activation=\"softmax\", units=10)`\n",
      "  # Remove the CWD from sys.path while we load stuff.\n"
     ]
    }
   ],
   "source": [
    "# Creating the model\n",
    "\n",
    "model = Sequential()\n",
    "model.add(Conv2D(48, kernel_size=3, activation='relu', input_shape=(28,28,1), use_bias=True, strides=(1,1), padding='valid'))\n",
    "model.add(MaxPooling2D(pool_size=(2, 2)))\n",
    "model.add(Conv2D(96, kernel_size=3, activation='relu', input_shape=(25,25,1), use_bias=True, strides=(1,1), padding='valid'))\n",
    "model.add(MaxPooling2D(pool_size=(2, 2)))\n",
    "model.add(Flatten())\n",
    "model.add(Dense(output_dim=100, activation='relu'))\n",
    "model.add(Dense(output_dim=10, activation='softmax'))"
   ]
  },
  {
   "cell_type": "code",
   "execution_count": 5,
   "metadata": {},
   "outputs": [],
   "source": [
    "# Creating class for wall time \n",
    "\n",
    "import time\n",
    "import keras\n",
    "class TimeHistory(keras.callbacks.Callback):\n",
    "    def on_train_begin(self, logs={}):\n",
    "        self.times = []\n",
    "\n",
    "    def on_epoch_begin(self, epoch, logs={}):\n",
    "        self.epoch_time_start = time.time()\n",
    "\n",
    "    def on_epoch_end(self, epoch, logs={}):\n",
    "        self.times.append(time.time() - self.epoch_time_start)"
   ]
  },
  {
   "cell_type": "code",
   "execution_count": 6,
   "metadata": {},
   "outputs": [
    {
     "name": "stdout",
     "output_type": "stream",
     "text": [
      "WARNING:tensorflow:From C:\\Users\\khare\\Anaconda3\\lib\\site-packages\\tensorflow\\python\\ops\\math_ops.py:3066: to_int32 (from tensorflow.python.ops.math_ops) is deprecated and will be removed in a future version.\n",
      "Instructions for updating:\n",
      "Use tf.cast instead.\n",
      "Epoch 1/50\n",
      "60000/60000 [==============================] - 54s 898us/step - loss: 0.5667 - acc: 0.7970\n",
      "Epoch 2/50\n",
      "60000/60000 [==============================] - 53s 882us/step - loss: 0.3585 - acc: 0.8724\n",
      "Epoch 3/50\n",
      "60000/60000 [==============================] - 54s 893us/step - loss: 0.3152 - acc: 0.8868\n",
      "Epoch 4/50\n",
      "60000/60000 [==============================] - 53s 883us/step - loss: 0.2861 - acc: 0.8962\n",
      "Epoch 5/50\n",
      "60000/60000 [==============================] - 53s 887us/step - loss: 0.2611 - acc: 0.90514s - \n",
      "Epoch 6/50\n",
      "60000/60000 [==============================] - 53s 880us/step - loss: 0.2409 - acc: 0.9125\n",
      "Epoch 7/50\n",
      "60000/60000 [==============================] - 53s 882us/step - loss: 0.2237 - acc: 0.9178\n",
      "Epoch 8/50\n",
      "60000/60000 [==============================] - 53s 882us/step - loss: 0.2084 - acc: 0.9233\n",
      "Epoch 9/50\n",
      "60000/60000 [==============================] - 53s 880us/step - loss: 0.1945 - acc: 0.9293\n",
      "Epoch 10/50\n",
      "60000/60000 [==============================] - 53s 881us/step - loss: 0.1766 - acc: 0.93503s - loss:\n",
      "Epoch 11/50\n",
      "60000/60000 [==============================] - 53s 881us/step - loss: 0.1659 - acc: 0.9385\n",
      "Epoch 12/50\n",
      "60000/60000 [==============================] - 53s 884us/step - loss: 0.1513 - acc: 0.9441\n",
      "Epoch 13/50\n",
      "60000/60000 [==============================] - 53s 881us/step - loss: 0.1438 - acc: 0.9476\n",
      "Epoch 14/50\n",
      "60000/60000 [==============================] - 53s 880us/step - loss: 0.1313 - acc: 0.9522\n",
      "Epoch 15/50\n",
      "60000/60000 [==============================] - 53s 880us/step - loss: 0.1210 - acc: 0.9551\n",
      "Epoch 16/50\n",
      "60000/60000 [==============================] - 53s 878us/step - loss: 0.1078 - acc: 0.9604\n",
      "Epoch 17/50\n",
      "60000/60000 [==============================] - ETA: 0s - loss: 0.1048 - acc: 0.960 - 53s 880us/step - loss: 0.1047 - acc: 0.9609\n",
      "Epoch 18/50\n",
      "60000/60000 [==============================] - 53s 880us/step - loss: 0.0937 - acc: 0.9664\n",
      "Epoch 19/50\n",
      "60000/60000 [==============================] - 53s 879us/step - loss: 0.0831 - acc: 0.96952s - loss: 0.08\n",
      "Epoch 20/50\n",
      "60000/60000 [==============================] - 53s 881us/step - loss: 0.0747 - acc: 0.9730\n",
      "Epoch 21/50\n",
      "60000/60000 [==============================] - 53s 878us/step - loss: 0.0726 - acc: 0.9741\n",
      "Epoch 22/50\n",
      "60000/60000 [==============================] - 53s 883us/step - loss: 0.0625 - acc: 0.9775\n",
      "Epoch 23/50\n",
      "60000/60000 [==============================] - 53s 880us/step - loss: 0.0581 - acc: 0.9792\n",
      "Epoch 24/50\n",
      "60000/60000 [==============================] - 53s 882us/step - loss: 0.0510 - acc: 0.9819\n",
      "Epoch 25/50\n",
      "60000/60000 [==============================] - 53s 880us/step - loss: 0.0459 - acc: 0.9842\n",
      "Epoch 26/50\n",
      "60000/60000 [==============================] - 53s 881us/step - loss: 0.0451 - acc: 0.98391s - loss: 0.0446 - a\n",
      "Epoch 27/50\n",
      "60000/60000 [==============================] - 53s 880us/step - loss: 0.0449 - acc: 0.9838\n",
      "Epoch 28/50\n",
      "60000/60000 [==============================] - 53s 883us/step - loss: 0.0365 - acc: 0.9872\n",
      "Epoch 29/50\n",
      "60000/60000 [==============================] - 53s 882us/step - loss: 0.0331 - acc: 0.9887\n",
      "Epoch 30/50\n",
      "60000/60000 [==============================] - 53s 882us/step - loss: 0.0332 - acc: 0.9888\n",
      "Epoch 31/50\n",
      "60000/60000 [==============================] - 53s 882us/step - loss: 0.0245 - acc: 0.99182s - loss: 0.02\n",
      "Epoch 32/50\n",
      "60000/60000 [==============================] - 53s 884us/step - loss: 0.0299 - acc: 0.9891\n",
      "Epoch 33/50\n",
      "60000/60000 [==============================] - 53s 883us/step - loss: 0.0209 - acc: 0.9933\n",
      "Epoch 34/50\n",
      "60000/60000 [==============================] - 53s 881us/step - loss: 0.0265 - acc: 0.9904\n",
      "Epoch 35/50\n",
      "60000/60000 [==============================] - 53s 887us/step - loss: 0.0219 - acc: 0.9930\n",
      "Epoch 36/50\n",
      "60000/60000 [==============================] - 53s 885us/step - loss: 0.0166 - acc: 0.9949\n",
      "Epoch 37/50\n",
      "60000/60000 [==============================] - 53s 892us/step - loss: 0.0216 - acc: 0.99263s - loss: 0\n",
      "Epoch 38/50\n",
      "60000/60000 [==============================] - 53s 887us/step - loss: 0.0316 - acc: 0.9882\n",
      "Epoch 39/50\n",
      "60000/60000 [==============================] - 53s 887us/step - loss: 0.0135 - acc: 0.9958\n",
      "Epoch 40/50\n",
      "60000/60000 [==============================] - 53s 882us/step - loss: 0.0112 - acc: 0.9967\n",
      "Epoch 41/50\n",
      "60000/60000 [==============================] - 53s 886us/step - loss: 0.0238 - acc: 0.9917\n",
      "Epoch 42/50\n",
      "60000/60000 [==============================] - 53s 888us/step - loss: 0.0130 - acc: 0.99609s - loss - ETA: 5\n",
      "Epoch 43/50\n",
      "60000/60000 [==============================] - 53s 884us/step - loss: 0.0103 - acc: 0.99697s - loss: 0.0095 - acc: 0 -\n",
      "Epoch 44/50\n",
      "60000/60000 [==============================] - 53s 885us/step - loss: 0.0165 - acc: 0.9946\n",
      "Epoch 45/50\n",
      "60000/60000 [==============================] - 53s 886us/step - loss: 0.0195 - acc: 0.9931\n",
      "Epoch 46/50\n",
      "60000/60000 [==============================] - 53s 888us/step - loss: 0.0235 - acc: 0.9919\n",
      "Epoch 47/50\n",
      "60000/60000 [==============================] - 53s 885us/step - loss: 0.0072 - acc: 0.9978\n",
      "Epoch 48/50\n",
      "60000/60000 [==============================] - 53s 886us/step - loss: 0.0078 - acc: 0.9976\n",
      "Epoch 49/50\n",
      "60000/60000 [==============================] - 53s 883us/step - loss: 0.0201 - acc: 0.9927\n",
      "Epoch 50/50\n",
      "60000/60000 [==============================] - 53s 889us/step - loss: 0.0196 - acc: 0.9937\n"
     ]
    }
   ],
   "source": [
    "model.compile(optimizer='adam', loss='categorical_crossentropy', metrics=['accuracy'])\n",
    "\n",
    "time_callback = TimeHistory()\n",
    "\n",
    "history = model.fit(train_images,train_label, epochs=50, batch_size=200, callbacks=[time_callback])"
   ]
  },
  {
   "cell_type": "code",
   "execution_count": 7,
   "metadata": {},
   "outputs": [],
   "source": [
    "# Rounding up wall time for graph\n",
    "\n",
    "time = time_callback.times\n",
    "wall_time = []\n",
    "sum = 0\n",
    "for t in range(len(time)):\n",
    "    sum = sum+time[t]\n",
    "    wall_time.append(round(sum))"
   ]
  },
  {
   "cell_type": "code",
   "execution_count": 8,
   "metadata": {},
   "outputs": [
    {
     "data": {
      "image/png": "[encoded data removed]",
      "text/plain": [
       "<Figure size 432x288 with 1 Axes>"
      ]
     },
     "metadata": {
      "needs_background": "light"
     },
     "output_type": "display_data"
    },
    {
     "data": {
      "image/png": "[encoded data removed]",
      "text/plain": [
       "<Figure size 432x288 with 1 Axes>"
      ]
     },
     "metadata": {
      "needs_background": "light"
     },
     "output_type": "display_data"
    }
   ],
   "source": [
    "# Plotting graph between loss and epoch \n",
    "\n",
    "import matplotlib.pyplot as plt\n",
    "epoch = np.arange(len(time))\n",
    "epoch = epoch+1\n",
    "plt.plot(epoch, history.history['loss'])\n",
    "plt.xlabel(\"number of epochs\")\n",
    "plt.ylabel(\"loss\")\n",
    "plt.show()\n",
    "\n",
    "# Plotting graph between loss and wall time\n",
    "\n",
    "plt.plot(wall_time, history.history['loss'])\n",
    "plt.ylabel(\"loss\")\n",
    "plt.xlabel(\"wall time\")\n",
    "plt.show()"
   ]
  },
  {
   "cell_type": "code",
   "execution_count": 9,
   "metadata": {},
   "outputs": [
    {
     "name": "stdout",
     "output_type": "stream",
     "text": [
      "Accuracy =  99.46166666666667\n"
     ]
    }
   ],
   "source": [
    "# Prediction on training data\n",
    "\n",
    "train_Y_pred = model.predict_classes(train_images)\n",
    "\n",
    "# Calculating overall accuracy\n",
    "\n",
    "print(\"Accuracy = \",metrics.accuracy_score(labels,train_Y_pred)*100)"
   ]
  },
  {
   "cell_type": "code",
   "execution_count": 10,
   "metadata": {},
   "outputs": [
    {
     "name": "stdout",
     "output_type": "stream",
     "text": [
      "Confusion Matrix =  [[5931    0   44    2    2    0   13    0    8    0]\n",
      " [   9 5952   13   15    4    0    7    0    0    0]\n",
      " [   1    0 5969    0   28    0    2    0    0    0]\n",
      " [   2    0    2 5977    5    0   11    0    3    0]\n",
      " [   0    0   11    1 5988    0    0    0    0    0]\n",
      " [   0    0    0    0    0 6000    0    0    0    0]\n",
      " [  21    0   48    1   63    0 5863    0    4    0]\n",
      " [   0    0    0    0    0    0    0 5998    1    1]\n",
      " [   1    0    0    0    0    0    0    0 5999    0]\n",
      " [   0    0    0    0    0    0    0    0    0 6000]]\n",
      "Classwise accuracy =  [ 98.85        99.2         99.48333333  99.61666667  99.8\n",
      " 100.          97.71666667  99.96666667  99.98333333 100.        ]\n"
     ]
    }
   ],
   "source": [
    "# Calculation of confusion matrix\n",
    "\n",
    "cm1 = metrics.confusion_matrix(labels,train_Y_pred,labels=[0,1,2,3,4,5,6,7,8,9])\n",
    "print(\"Confusion Matrix = \",cm1)\n",
    "\n",
    "# Calculating classwise accuracies\n",
    "\n",
    "cm1 = cm1.astype('float') / cm1.sum(axis=1)[:, np.newaxis]\n",
    "print(\"Classwise accuracy = \",(cm1.diagonal()*100))"
   ]
  },
  {
   "cell_type": "code",
   "execution_count": 11,
   "metadata": {},
   "outputs": [
    {
     "name": "stdout",
     "output_type": "stream",
     "text": [
      "Precision =  [ 99.43000838 100.          98.06144242  99.68312208  98.32512315\n",
      " 100.          99.44029851 100.          99.73399834  99.98333611]\n",
      "Recall =  [ 98.85        99.2         99.48333333  99.61666667  99.8\n",
      " 100.          97.71666667  99.96666667  99.98333333 100.        ]\n",
      "F1 score =  [ 99.13915587  99.59839357  98.76727062  99.64988329  99.05707196\n",
      " 100.          98.57094822  99.98333056  99.8585102   99.99166736]\n"
     ]
    }
   ],
   "source": [
    "# Calculating classwise Precision, Recall and F1 score\n",
    "\n",
    "print(\"Precision = \",metrics.precision_score(labels,train_Y_pred,average=None)*100)\n",
    "print(\"Recall = \",metrics.recall_score(labels,train_Y_pred,average=None)*100)\n",
    "print(\"F1 score = \",metrics.f1_score(labels,train_Y_pred,average=None)*100)"
   ]
  },
  {
   "cell_type": "code",
   "execution_count": 12,
   "metadata": {},
   "outputs": [],
   "source": [
    "# Loading test data\n",
    "\n",
    "test_images,test_labels = ld.load('test')\n",
    "\n",
    "# Normalizing test data\n",
    "\n",
    "test_images = scaler.transform(test_images)\n",
    "\n",
    "# Reshaping the test images for CNN\n",
    "\n",
    "test_images_new = np.empty((test_images.shape[0],28,28))\n",
    "for i in range (test_images.shape[0]):\n",
    "    test_images_new[i,:,:]=(np.reshape(test_images[i,:],(28,28)))\n",
    "\n",
    "test_images_new = test_images_new.reshape(-1,28,28,1)"
   ]
  },
  {
   "cell_type": "code",
   "execution_count": 13,
   "metadata": {},
   "outputs": [
    {
     "name": "stdout",
     "output_type": "stream",
     "text": [
      "Accuracy =  91.22\n"
     ]
    }
   ],
   "source": [
    "# Prediction on test data\n",
    "\n",
    "test_Y_pred = model.predict_classes(test_images_new)\n",
    "\n",
    "# Calculating overall accuracy\n",
    "\n",
    "print(\"Accuracy = \",metrics.accuracy_score(test_labels,test_Y_pred)*100)"
   ]
  },
  {
   "cell_type": "code",
   "execution_count": 14,
   "metadata": {},
   "outputs": [
    {
     "name": "stdout",
     "output_type": "stream",
     "text": [
      "Confusion Matrix =  [[860   0  27  12   8   0  84   0   9   0]\n",
      " [  7 965   3  12   4   0   7   0   2   0]\n",
      " [ 15   0 897   8  47   0  33   0   0   0]\n",
      " [ 14   1  13 907  22   0  37   0   6   0]\n",
      " [  0   0  54  16 888   0  41   0   1   0]\n",
      " [  1   0   0   0   0 976   0  15   0   8]\n",
      " [ 87   0  84  17  71   0 724   0  17   0]\n",
      " [  0   0   0   0   0  10   0 956   0  34]\n",
      " [  5   0   3   4   0   0   3   3 981   1]\n",
      " [  1   0   0   0   0   4   0  27   0 968]]\n",
      "Classwise accuracy =  [86.  96.5 89.7 90.7 88.8 97.6 72.4 95.6 98.1 96.8]\n"
     ]
    }
   ],
   "source": [
    "# Calculation of confusion matrix\n",
    "\n",
    "cm2 = metrics.confusion_matrix(test_labels,test_Y_pred,labels=[0,1,2,3,4,5,6,7,8,9])\n",
    "print(\"Confusion Matrix = \",cm2)\n",
    "\n",
    "# Calculation of classwise accuracies\n",
    "\n",
    "cm2 = cm2.astype('float') / cm2.sum(axis=1)[:, np.newaxis]\n",
    "print(\"Classwise accuracy = \",cm2.diagonal()*100)"
   ]
  },
  {
   "cell_type": "code",
   "execution_count": 15,
   "metadata": {},
   "outputs": [
    {
     "name": "stdout",
     "output_type": "stream",
     "text": [
      "Precision =  [86.86868687 99.89648033 82.9787234  92.93032787 85.38461538 98.58585859\n",
      " 77.93326157 95.5044955  96.55511811 95.74678536]\n",
      "Recall =  [86.  96.5 89.7 90.7 88.8 97.6 72.4 95.6 98.1 96.8]\n",
      "F1 score =  [86.4321608  98.1688708  86.20855358 91.80161943 87.05882353 98.09045226\n",
      " 75.06480041 95.55222389 97.32142857 96.27051218]\n"
     ]
    }
   ],
   "source": [
    "# Calculating classwise Precision, Recall and F1 score\n",
    "\n",
    "print(\"Precision = \",metrics.precision_score(test_labels,test_Y_pred,average=None)*100)\n",
    "print(\"Recall = \",metrics.recall_score(test_labels,test_Y_pred,average=None)*100)\n",
    "print(\"F1 score = \",metrics.f1_score(test_labels,test_Y_pred,average=None)*100)"
   ]
  }
 ],
 "metadata": {
  "kernelspec": {
   "display_name": "Python 3",
   "language": "python",
   "name": "python3"
  },
  "language_info": {
   "codemirror_mode": {
    "name": "ipython",
    "version": 3
   },
   "file_extension": ".py",
   "mimetype": "text/x-python",
   "name": "python",
   "nbconvert_exporter": "python",
   "pygments_lexer": "ipython3",
   "version": "3.7.1"
  }
 },
 "nbformat": 4,
 "nbformat_minor": 2
}
